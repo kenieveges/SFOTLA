{
 "cells": [
  {
   "cell_type": "code",
   "execution_count": null,
   "metadata": {},
   "outputs": [],
   "source": [
    "import numpy as np\n",
    "import matplotlib.pyplot as plt"
   ]
  },
  {
   "cell_type": "code",
   "execution_count": null,
   "metadata": {},
   "outputs": [],
   "source": [
    "# Define the number of rows and columns\n",
    "\n",
    "rows = 5\n",
    "cols = 5"
   ]
  },
  {
   "cell_type": "code",
   "execution_count": null,
   "metadata": {},
   "outputs": [],
   "source": [
    "# Create a 2D array with random 1s and 0s\n",
    "arr = np.random.randint(2, size=(rows, cols))\n",
    "\n",
    "# Ensure a continuous path of 1s from the first column to the last column\n",
    "for i in range(rows):\n",
    "    if arr[i][0] == 1:\n",
    "        arr[i][0] = 0\n",
    "        arr[i][1] = 1\n",
    "    if arr[i][cols-1] == 1:\n",
    "        arr[i][cols-1] = 0\n",
    "        arr[i][cols-2] = 1\n",
    "for j in range(cols):\n",
    "    if arr[0][j] == 1:\n",
    "        arr[0][j] = 0\n",
    "        arr[1][j] = 1\n",
    "    if arr[rows-1][j] == 1:\n",
    "        arr[rows-1][j] = 0\n",
    "        arr[rows-2][j] = 1\n",
    "\n",
    "# Ensure multiple continuous paths of 1s from the first column to the last column\n",
    "connected = False\n",
    "while not connected:\n",
    "    arr = np.random.randint(2, size=(rows, cols))\n",
    "    for i in range(rows):\n",
    "        if arr[i][0] == 1:\n",
    "            arr[i][0] = 0\n",
    "            arr[i][1] = 1\n",
    "        if arr[i][cols-1] == 1:\n",
    "            arr[i][cols-1] = 0\n",
    "            arr[i][cols-2] = 1\n",
    "    for j in range(cols):\n",
    "        if arr[0][j] == 1:\n",
    "            arr[0][j] = 0\n",
    "            arr[1][j] = 1\n",
    "        if arr[rows-1][j] == 1:\n",
    "            arr[rows-1][j] = 0\n",
    "            arr[rows-2][j] = 1\n",
    "\n",
    "    visited = np.zeros((rows, cols), dtype=bool)\n",
    "    paths = []\n",
    "    for i in range(rows):\n",
    "        if arr[i][0] == 1 and not visited[i][0]:\n",
    "            path = []\n",
    "            stack = [(i, 0)]\n",
    "            while stack:\n",
    "                x, y = stack.pop()\n",
    "                if visited[x][y]:\n",
    "                    continue\n",
    "                visited[x][y] = True\n",
    "                path.append((x, y))\n",
    "                if y == cols-1:\n",
    "                    paths.append(path)\n",
    "                    break\n",
    "                if x > 0 and arr[x-1][y] == 1:\n",
    "                    stack.append((x-1, y))\n",
    "                if x < rows-1 and arr[x+1][y] == 1:\n",
    "                    stack.append((x+1, y))\n",
    "                if y < cols-1 and arr[x][y+1] == 1:\n",
    "                    stack.append((x, y+1))\n",
    "                if y > 0 and arr[x][y-1] == 1:\n",
    "                    stack.append((x, y-1))\n",
    "    if len(paths) > 1:\n",
    "        connected = True\n",
    "\n",
    "# Visualize the array using matshow with a heat map\n",
    "plt.matshow(arr, cmap='hot')\n",
    "plt.show()\n"
   ]
  }
 ],
 "metadata": {
  "kernelspec": {
   "display_name": "base",
   "language": "python",
   "name": "python3"
  },
  "language_info": {
   "name": "python",
   "version": "3.9.7"
  },
  "orig_nbformat": 4
 },
 "nbformat": 4,
 "nbformat_minor": 2
}
